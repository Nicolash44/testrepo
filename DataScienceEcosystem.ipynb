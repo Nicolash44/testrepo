{
 "cells": [
  {
   "cell_type": "markdown",
   "id": "1e8ae4ff",
   "metadata": {},
   "source": [
    "# Data Science Tools and Ecosystem"
   ]
  },
  {
   "cell_type": "markdown",
   "id": "b5666663",
   "metadata": {},
   "source": [
    "\n",
    "In this notebook, Data Science tootls and Ecosystem are summarized"
   ]
  },
  {
   "cell_type": "markdown",
   "id": "84d8281d",
   "metadata": {},
   "source": [
    "***Objetives:***\n",
    "---\n",
    "* List popular languages for Data Science\n",
    "* List common libraries\n",
    "* Aritmetics examples in Python"
   ]
  },
  {
   "cell_type": "markdown",
   "id": "733c727c",
   "metadata": {},
   "source": [
    "Some of the popular languages that Data Scientists use are:\n",
    "---\n",
    "1. Python\n",
    "1. R\n",
    "1. Java"
   ]
  },
  {
   "cell_type": "markdown",
   "id": "163f0f9c",
   "metadata": {},
   "source": [
    "Some of the commonly used libraries used by Data Scientists include:\n",
    "---\n",
    "1. NumPy\n",
    "2. Matplotlib\n",
    "3. Pandas"
   ]
  },
  {
   "cell_type": "markdown",
   "id": "3f6a90a2",
   "metadata": {},
   "source": [
    "| Data Science Tools|  \n",
    "| :---              |\n",
    "| R Studio          | \n",
    "| Apache Spark      | \n",
    "| Apache Hadoop     |"
   ]
  },
  {
   "cell_type": "markdown",
   "id": "2437eb21",
   "metadata": {},
   "source": [
    "### Below are a few examples of evaluating aritmetic expressions in Python"
   ]
  },
  {
   "cell_type": "code",
   "execution_count": 2,
   "id": "f1d01eea",
   "metadata": {},
   "outputs": [
    {
     "data": {
      "text/plain": [
       "17"
      ]
     },
     "execution_count": 2,
     "metadata": {},
     "output_type": "execute_result"
    }
   ],
   "source": [
    "# This a simple aritmetic expression to multiply and then add integers\n",
    "(3*4)+5"
   ]
  },
  {
   "cell_type": "code",
   "execution_count": 9,
   "id": "c61bb3d5",
   "metadata": {},
   "outputs": [
    {
     "name": "stdout",
     "output_type": "stream",
     "text": [
      "3.3333333333333335 Hours\n"
     ]
    }
   ],
   "source": [
    "# This will convert 200 minutes to hours by diving by 60\n",
    "Minutes = 200\n",
    "Hour_convertion = Minutes/60\n",
    "\n",
    "print(Hour_convertion,\"Hours\")\n"
   ]
  },
  {
   "cell_type": "markdown",
   "id": "4835ed82",
   "metadata": {},
   "source": [
    "## Author  \n",
    "Agustin Bustos"
   ]
  },
  {
   "cell_type": "code",
   "execution_count": null,
   "id": "5b90724b",
   "metadata": {},
   "outputs": [],
   "source": []
  }
 ],
 "metadata": {
  "kernelspec": {
   "display_name": "Python 3 (ipykernel)",
   "language": "python",
   "name": "python3"
  },
  "language_info": {
   "codemirror_mode": {
    "name": "ipython",
    "version": 3
   },
   "file_extension": ".py",
   "mimetype": "text/x-python",
   "name": "python",
   "nbconvert_exporter": "python",
   "pygments_lexer": "ipython3",
   "version": "3.8.2"
  }
 },
 "nbformat": 4,
 "nbformat_minor": 5
}
